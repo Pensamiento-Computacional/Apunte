{
 "cells": [
  {
   "cell_type": "markdown",
   "id": "f26c9f19",
   "metadata": {},
   "source": [
    "---\n",
    "title: \"Tipos de Estructuras de Datos\"\n",
    "format:\n",
    "  html:\n",
    "    code-fold: false\n",
    "jupyter: python3\n",
    "---\n",
    "\n",
    "\n",
    "\n",
    "\n",
    "\n",
    "\n",
    "## Introducción: Secuencias\n",
    "\n",
    "Una secuencia es una serie de elementos ordenados que se suceden unos a otros.\n",
    "\n",
    "Una secuencia en Python es un grupo de elementos con una organización interna, que se alojan de manera contigua en memoria.\n",
    "\n",
    "Las secuencias son tipos de datos que pueden ser iterados, y que tienen un orden definido. Las secuencias más comunes son los rangos, las cadenas de caracteres, las listas y las tuplas. En este capítulo vamos a ver las características de cada una de ellas y cómo podemos manipularlas.\n",
    "\n",
    "## Rangos\n",
    "Los rangos ya los hemos visto antes, pero lo que no habíamos comentado es que son secuencias. Los rangos representan específicamente una secuencia de números inmutable.\n",
    "\n",
    "Los rangos se definen con la función `range()`, que recibe como parámetros el inicio, el fin y el paso. El inicio es opcional y por defecto es 0, el paso también es opcional y por defecto es 1.\n",
    "\n",
    ":::{.callout-note}\n",
    "Para más información de los rangos, ver la [unidad 3](#ciclo-for).\n",
    ":::\n",
    "\n",
    "## Cadenas de Caracteres\n",
    "\n",
    "Un `string` es un tipo de secuencia que sólo admite caracteres como elementos. Los strings son inmutables, es decir, no se pueden modificar una vez creados.\n",
    "\n",
    "Internamente, cada uno de los caracteres se almacenará de forma contigua en memoria. Es por esto que podemos acceder a cada uno de los caracteres de un string a través de su índice haciendo uso de  `[]`.\n",
    "\n",
    "|Índice| 0 | 1 | 2 | 3 | 4 | 5 | 6 | 7 | 8 | 9 |\n",
    "|---|---|---|---|---|---|---|---|---|---|---|\n",
    "|Letra| H | o | l | a |   | M | u | n | d | o |\n",
    "\n",
    "Hasta ahora, vimos que:\n",
    "\n",
    "1. Las cadenas de caracteres pueden ser concatenadas con el operador `+`:\n"
   ]
  },
  {
   "cell_type": "code",
   "execution_count": 1,
   "id": "8785f136",
   "metadata": {},
   "outputs": [
    {
     "name": "stdout",
     "output_type": "stream",
     "text": [
      "HolaChau\n"
     ]
    }
   ],
   "source": [
    "saludo = \"Hola\"\n",
    "despedida = \"Chau\"\n",
    "print(saludo + despedida)"
   ]
  },
  {
   "cell_type": "markdown",
   "id": "41ef34a8",
   "metadata": {},
   "source": [
    "2. Las cadenas de caracteres pueden ser *sliceadas* o incluso acceder a un único elemento usando `[]`:\n"
   ]
  },
  {
   "cell_type": "code",
   "execution_count": 2,
   "id": "a84771d2",
   "metadata": {},
   "outputs": [
    {
     "name": "stdout",
     "output_type": "stream",
     "text": [
      "Hola\n",
      "M\n"
     ]
    }
   ],
   "source": [
    "saludo = \"Hola Mundo\"\n",
    "print(saludo[0:4])\n",
    "print(saludo[5])"
   ]
  },
  {
   "cell_type": "markdown",
   "id": "ba24f664",
   "metadata": {},
   "source": [
    "Podemos agregar también que:\n",
    "\n",
    "3. Las cadenas de caracteres pueden ser multiplicadas por un número entero (y el resultado es la concatenación de la cadena consigo misma esa cantidad de veces):\n"
   ]
  },
  {
   "cell_type": "code",
   "execution_count": 3,
   "id": "f3d3e268",
   "metadata": {},
   "outputs": [
    {
     "name": "stdout",
     "output_type": "stream",
     "text": [
      "HolaHolaHola\n"
     ]
    }
   ],
   "source": [
    "saludo = \"Hola\"\n",
    "print(saludo * 3)"
   ]
  },
  {
   "cell_type": "markdown",
   "id": "1cb94a6a",
   "metadata": {},
   "source": [
    "Adicional a esas 3 operaciones, las cadenas de caracteres tienen una gran cantidad de métodos que nos permiten manipularlas. Veamos algunos de ellos.\n",
    "\n",
    "### Métodos de Cadenas de Caracteres\n",
    "\n",
    "Todos los métodos de las cadenas de caracteres devuelven una nueva cadena de caracteres o un valor, y no modifican la cadena original (ya que las cadenas de caracteres son inmutables).\n",
    "\n",
    "#### Longitud de una Cadena\n",
    "Se puede averiguar la cantidad de caracteres que conforman una cadena utilizando la función predefinida `len()`:\n"
   ]
  },
  {
   "cell_type": "code",
   "execution_count": 4,
   "id": "a9c76c04",
   "metadata": {},
   "outputs": [
    {
     "name": "stdout",
     "output_type": "stream",
     "text": [
      "25\n"
     ]
    }
   ],
   "source": [
    "print(len(\"Pensamiento Computacional\"))"
   ]
  },
  {
   "cell_type": "markdown",
   "id": "fc5ff7c9",
   "metadata": {},
   "source": [
    "Existe también una cadena especial, la cadena vacía (ya la hemos visto antes), que es la cadena que no contiene ningún caracter entre las comillas. La longitud de la cadena vacía es 0.\n",
    "\n",
    ":::{.callout-tip collapse=\"true\"}\n",
    "### Tip: Len e Índices de la Cadena\n",
    "\n",
    "Es interesante notar lo siguiente: si tenemos una cadena de caracteres de longitud `n`, los índices de la cadena van desde `0` hasta `n-1`. Esto es porque el índice `n` no existe, ya que el primer índice es `0` y el último es `n-1`.\n",
    "\n",
    "Veámoslo con un ejemplo: tenemos el caracter `Hola`.\n",
    "\n",
    "|Índice| 0 | 1 | 2 | 3 |\n",
    "|---|---|---|---|---|\n",
    "|Letra| H | o | l | a |\n",
    "\n",
    "La longitud de la cadena es 4, pero el último índice es 3. Si intentamos acceder al índice 4, nos dará un error:\n",
    "\n",
    "```python\n",
    "saludo = \"Hola\"\n",
    "print(saludo[4])\n",
    "```\n",
    "\n",
    "\n",
    "\n",
    "\n",
    "\n",
    "```{error}\n",
    "IndexError: string index out of range\n",
    "```\n",
    "\n",
    "\n",
    "\n",
    "\n",
    "\n",
    "\n",
    "Lo que nos indica el error es que el índice está fuera del rango de la cadena. Esto es porque el índice `4` no existe, ya que el último índice es `3`. El largo de la cadena es `4`, y el último índice disponible es `4-1=3`.\n",
    "\n",
    "- Los índices positivos (entre `0` y `len(s) - 1`) son los caracteres de la cadena del primero al último.\n",
    "- Los índices negativos (entre `-len(s)` y `-1`) proveen una notación que hace más fácil indicar cuál es el último caracter de la cadena: `s[-1]` es el último caracter, `s[-2]` es el penúltimo, y así sucesivamente.\n"
   ]
  },
  {
   "cell_type": "code",
   "execution_count": 5,
   "id": "01c39259",
   "metadata": {},
   "outputs": [
    {
     "name": "stdout",
     "output_type": "stream",
     "text": [
      "a\n",
      "l\n",
      "o\n",
      "H\n"
     ]
    }
   ],
   "source": [
    "saludo = \"Hola\"\n",
    "print(saludo[-1])\n",
    "print(saludo[-2])\n",
    "print(saludo[-3])\n",
    "print(saludo[-4])"
   ]
  },
  {
   "cell_type": "markdown",
   "id": "68afa8a7",
   "metadata": {},
   "source": [
    "Además, el uso de índices negativos también es válido para *slices*:\n"
   ]
  },
  {
   "cell_type": "code",
   "execution_count": 6,
   "id": "64fd23a1",
   "metadata": {},
   "outputs": [
    {
     "name": "stdout",
     "output_type": "stream",
     "text": [
      "ol\n"
     ]
    }
   ],
   "source": [
    "saludo = \"Hola\"\n",
    "print(saludo[-3:-1])"
   ]
  },
  {
   "cell_type": "markdown",
   "id": "b34d1ec9",
   "metadata": {},
   "source": [
    "Al usar índices negativos, es importante no salirse del rango de los índices permitidos.\n",
    ":::\n",
    "\n",
    "#### Recorriendo Cadenas de Caracteres\n",
    "Dijimos que los strings son secuencias, y por lo tanto podemos iterar sobre ellos. Esto significa que podemos recorrerlos con un ciclo `for`:\n"
   ]
  },
  {
   "cell_type": "code",
   "execution_count": 7,
   "id": "a3f724e9",
   "metadata": {},
   "outputs": [
    {
     "name": "stdout",
     "output_type": "stream",
     "text": [
      "H\n",
      "o\n",
      "l\n",
      "a\n",
      " \n",
      "M\n",
      "u\n",
      "n\n",
      "d\n",
      "o\n"
     ]
    }
   ],
   "source": [
    "saludo = \"Hola Mundo\"\n",
    "for caracter in saludo:\n",
    "    print(caracter)"
   ]
  },
  {
   "cell_type": "markdown",
   "id": "f25138c6",
   "metadata": {},
   "source": [
    "Si bien esto ya lo habíamos nombrado en la sección anterior como una posibilidad, ahora sabemos por qué: todas las secuencias son iterables, y por lo tanto, podemos recorrerlas.\n",
    "\n",
    "#### Buscando Subcadenas\n",
    "El operador `in` nos permite saber si una subcadena se encuentra dentro de otra cadena. En la guía de la unidad 3 te pedimos que investigues acerca del operador `in` y `not in` para el ejercicio de vocales y consonantes. \n",
    "\n",
    "`a in b` es una expresión (¿qué era una expresión?, repasar de ser necesario la [unidad 3](#expresiones-booleanas)) que devuelve `True` si `a` es una subcadena de `b`, y `False` en caso contrario.\n"
   ]
  },
  {
   "cell_type": "code",
   "execution_count": 8,
   "id": "1a14d89a",
   "metadata": {},
   "outputs": [
    {
     "name": "stdout",
     "output_type": "stream",
     "text": [
      "True\n"
     ]
    }
   ],
   "source": [
    "print( \"Hola\" in \"Hola Mundo\")"
   ]
  },
  {
   "cell_type": "markdown",
   "id": "73e4c0f2",
   "metadata": {},
   "source": [
    "Al ser una expresión booleana, se puede usar como condición tanto de un `if` como de un `while`:\n"
   ]
  },
  {
   "cell_type": "code",
   "execution_count": 9,
   "id": "54fc639f",
   "metadata": {},
   "outputs": [
    {
     "name": "stdout",
     "output_type": "stream",
     "text": [
      "Se encontró una subcadena!\n"
     ]
    }
   ],
   "source": [
    "if \"Hola\" in \"Hola Mundo\":\n",
    "    print(\"Se encontró una subcadena!\")"
   ]
  },
  {
   "cell_type": "markdown",
   "id": "4c933d8b",
   "metadata": {},
   "source": [
    ">**Ejercicio**\\\n",
    "1. Investigar, para un string dado $s$, cuál es el resultado del slice `s[:]`\\\n",
    "2. Investigar, para un string dado $s$, cuál es el resultado del slice `s[j:]` con $j$ un número entero negativo.\n",
    "\n",
    "#### Inmutabilidad\n",
    "Las cadenas son inmutables. Esto significa que no se pueden modificar una vez creadas. Por ejemplo, si queremos cambiar un caracter de una cadena, no podemos hacerlo:\n",
    "\n",
    "```python\n",
    "saludo = \"Hola Mundo\"\n",
    "saludo[0] = \"h\"\n",
    "```\n",
    "\n",
    "```error\n",
    "TypeError: 'str' object does not support item assignment\n",
    "```\n",
    "\n",
    "Si queremos realizar una modificación sobre una cadena, lo que tenemos que hacer es crear una nueva cadena con la modificación que queremos:\n"
   ]
  },
  {
   "cell_type": "code",
   "execution_count": 10,
   "id": "7e4802d9",
   "metadata": {},
   "outputs": [
    {
     "name": "stdout",
     "output_type": "stream",
     "text": [
      "hola Mundo\n"
     ]
    }
   ],
   "source": [
    "saludo = \"Hola Mundo\"\n",
    "saludo = \"h\" + saludo[1:]\n",
    "print(saludo)"
   ]
  },
  {
   "cell_type": "markdown",
   "id": "47beaf16",
   "metadata": {},
   "source": [
    "#### Otros Métodos de Cadenas de Caracteres\n",
    "Las cadenas de caracteres tienen una gran cantidad de métodos que nos permiten manipularlas. Algunos ya los vimos, como `len()`, `in` y `not in`. Veamos otros.\n",
    "\n",
    ":::{.callout-note}\n",
    "### Recomendación\n",
    "Te recomendamos que te animes a probar estas funciones, para ver qué hacen y terminar de entenderlas.\n",
    ":::\n",
    "\n",
    "| Método | Descripción | Ejemplo |\n",
    "|---|---|---|\n",
    "| `count(subcadena)` | Devuelve la cantidad de veces que aparece la subcadena en la cadena | `\"Hola mundo\".count(\"o\")` devuelve `2` |\n",
    "| `find(subcadena)` | Devuelve el índice de la primera aparición de la subcadena en la cadena, o `-1` si no se encuentra. Cada vez que se llama, devuelve la primer aparición. Puede recibir un parámetro adicional para buscar a partir de una posición particular. | `\"Hola mundo\".find(\"mundo\")` devuelve `5`.`\"Hola mundo\".find(\"Hola\",6)` devuelve `-1`. |\n",
    "| `upper()` | Devuelve una copia de la cadena con todos los caracteres en mayúscula | `\"Hola mundo\".upper()` devuelve `\"HOLA MUNDO\"` |\n",
    "| `lower()` | Devuelve una copia de la cadena con todos los caracteres en minúscula | `\"Hola mundo\".lower()` devuelve `\"hola mundo\"` |\n",
    "| `replace(subcadena1, subcadena2)` | Devuelve una copia de la cadena reemplazando todas las apariciones de la subcadena1 por la subcadena2 | `\"Hola mundo\".replace(\"mundo\", \"amigos\")` devuelve `\"Hola amigos\"` |\n",
    "| `split()` | Devuelve una lista de subcadenas separando la cadena por los espacios en blanco | `\"Hola mundo  \".split()` devuelve `[\"Hola\", \"mundo\"]` |\n",
    "| `split(separador)` | Devuelve una lista de subcadenas separando la cadena por el separador | `\"Hola, mundo\".split(\", \")` devuelve `[\"Hola\", \"mundo\"]` |\n",
    "| `isdigit()` | Devuelve `True` si todos los caracteres de la cadena son dígitos, `False` en caso contrario | `\"123\".isdigit()` devuelve `True` |\n",
    "| `isalpha()` | Devuelve `True` si todos los caracteres de la cadena son letras, `False` en caso contrario | `\"Hola\".isalpha()` devuelve `True` |\n",
    "| `index(subcadena)` | Devuelve el índice de la primera aparición de la subcadena en la cadena, o produce un error si no se encuentra | `\"Hola mundo\".index(\"mundo\")` devuelve `5` |\n",
    "\n",
    "## Tuplas\n",
    "Las tuplas son una secuencia de elementos inmutable. Esto significa que no se pueden modificar una vez creadas. En Python, el tipo de dato asociado a las tuplas se llama `tuple` y se definen con paréntesis `()`:\n",
    "\n",
    "```python\n",
    "tupla = (1, 2, 3)\n",
    "```\n",
    "\n",
    "Las tuplas pueden tener elementos de cualquier tipo, es decir, pueden ser heterogéneas. Por ejemplo, podemos tener una tupla con un número, un string y un booleano:\n",
    "\n",
    "```python\n",
    "tupla = (1, \"Hola\", True)\n",
    "```\n",
    "\n",
    "Una tupla de un sólo elemento (unitaria) debe definirse de la siguiente manera:\n",
    "\n",
    "```python\n",
    "tupla = (1,)\n",
    "```\n",
    "La coma al final es necesaria para diferenciar una tupla de un número entre paréntesis `(1)`.\n",
    "\\\n",
    "\n",
    "Ejemplos de tuplas podrían ser:\n",
    "\n",
    "- Una fecha, representada como una tupla de 3 elementos: día, mes y año: `(1, 1, 2020)`\n",
    "- Datos de una persona: `(nombre, edad, dni)`: `(\"Carla\", 30, 12345678)`\n",
    "\n",
    "Incluso es posible anidar tuplas, como por ejemplo guardar, para una persona, la fecha de nacimiento: `(\"Carla\", 30, 12345678, (1, 1, 1990))`\n",
    "\n",
    "### Tuplas como Secuencias\n",
    "Como las tuplas son secuencias, al igual que las cadenas, podemos utilizar la misma notación de índices para obtener cada uno de sus elementos y, de la misma forma que las cadenas, los elementos comienzan a enumerarse en su posición desde el `0`:\n"
   ]
  },
  {
   "cell_type": "code",
   "execution_count": 11,
   "id": "03606988",
   "metadata": {},
   "outputs": [
    {
     "name": "stdout",
     "output_type": "stream",
     "text": [
      "1\n"
     ]
    }
   ],
   "source": [
    "fecha = (1, 12, 2020)\n",
    "print(fecha[0])"
   ]
  },
  {
   "cell_type": "markdown",
   "id": "2095f867",
   "metadata": {},
   "source": [
    "También podemos usar la notación de rangos, o *slices*, para obtener subconjuntos de la tupla. Esto es algo típico de las secuencias:\n"
   ]
  },
  {
   "cell_type": "code",
   "execution_count": 12,
   "id": "f042c69a",
   "metadata": {},
   "outputs": [
    {
     "name": "stdout",
     "output_type": "stream",
     "text": [
      "(1, 12)\n"
     ]
    }
   ],
   "source": [
    "fecha = (1, 12, 2020)\n",
    "print(fecha[0:2])"
   ]
  },
  {
   "cell_type": "markdown",
   "id": "d03450cb",
   "metadata": {},
   "source": [
    "### Tuplas como Inmutables\n",
    "Al igual que con las cadenas, las componentes de las tuplas no pueden ser modificadas. Es decir, no puedo cambiar los valores de una tupla una vez creada:\n",
    "\n",
    "```python\n",
    "fecha = (1, 12, 2020)\n",
    "fecha[0] = 2\n",
    "```\n",
    "\n",
    "\n",
    "\n",
    "\n",
    "\n",
    "\n",
    "```{error}\n",
    "TypeError: 'tuple' object does not support item assignment\n",
    "```\n",
    "\n",
    "\n",
    "\n",
    "\n",
    "\n",
    "\n",
    "### Longitud de una Tupla\n",
    "La longitud de una tupla se puede obtener con la función predefinida `len()`, que devuelve la cantidad de elementos o componentes que tiene esa tupla:\n"
   ]
  },
  {
   "cell_type": "code",
   "execution_count": 13,
   "id": "35e065db",
   "metadata": {},
   "outputs": [
    {
     "name": "stdout",
     "output_type": "stream",
     "text": [
      "3\n"
     ]
    }
   ],
   "source": [
    "fecha = (1, 12, 2020)\n",
    "print(len(fecha))"
   ]
  },
  {
   "cell_type": "markdown",
   "id": "b4d63455",
   "metadata": {},
   "source": [
    "Una tupla vacía es una tupla que no tiene elementos: `()`. La longitud de una tupla vacía es 0.\n",
    "\n",
    ">**Ejercicio**\n",
    "Calcular la longitud de la tupla anidada `(\"Carla\", 30, 12345678, (1, 1, 1990))`. ¿Cuántos elementos tiene?\n",
    "\n",
    "### Empaquetado y desempaquetado de tuplas\n",
    "Si a una variable se le asigna una secuencia de valores separados por comas, el valor de esa variable será la tupla formada por esos valores.\n",
    "Ejemplo:\n"
   ]
  },
  {
   "cell_type": "code",
   "execution_count": 14,
   "id": "f8a0c183",
   "metadata": {},
   "outputs": [
    {
     "name": "stdout",
     "output_type": "stream",
     "text": [
      "(1, 2, 3)"
     ]
    },
    {
     "name": "stdout",
     "output_type": "stream",
     "text": [
      "\n"
     ]
    }
   ],
   "source": [
    "a = 1\n",
    "b = 2\n",
    "c = 3\n",
    "d = a, b, c\n",
    "\n",
    "print(d)"
   ]
  },
  {
   "cell_type": "markdown",
   "id": "e9c07d4f",
   "metadata": {},
   "source": [
    "A esto se le llama *empaquetado*.\n",
    "\\\n",
    "\n",
    "De forma similar, si se tiene una tupla de largo $k$, se puede asignar cada uno de los elementos de la tupla a $k$ variables distintas. Esto se llama *desempaquetado*.\n"
   ]
  },
  {
   "cell_type": "code",
   "execution_count": 15,
   "id": "65232ad4",
   "metadata": {},
   "outputs": [
    {
     "name": "stdout",
     "output_type": "stream",
     "text": [
      "1\n",
      "2\n",
      "3\n"
     ]
    }
   ],
   "source": [
    "d = (1, 2, 3)\n",
    "a, b, c = d\n",
    "\n",
    "print(a)\n",
    "print(b)\n",
    "print(c)"
   ]
  },
  {
   "cell_type": "markdown",
   "id": "1769e377",
   "metadata": {},
   "source": [
    ":::{.callout-warning}\n",
    "### ¡Cuidado!\n",
    "Si estamos desempaquetando una tupla de largo $k$ pero lo hacemos en una cantidad de variables menor a $k$, se producirá un error.\n",
    "\n",
    "```python\n",
    "d = (1, 2, 3)\n",
    "a, b = d\n",
    "```\n",
    "\n",
    "Obtendremos:\n",
    "```error\n",
    "ValueError: too many values to unpack\n",
    "o\n",
    "ValueError: not enough values to unpack\n",
    "```\n",
    ":::\n",
    "\n",
    "## Listas\n",
    "Las listas, al igual que las tuplas, también pueden usarse para modelar datos compuestos, pero cuya cantidad y valor varían a lo largo del tiempo. Son secuencias *mutables*, y vienen dotadas de una variedad de operaciones muy útiles.\n",
    "\n",
    "La notación para lista es una secuencia de valores entre corchetes y separados por comas.\n",
    "\n",
    "```python\n",
    "lista = [1, 2, 3]\n",
    "\n",
    "lista_vacia = []\n",
    "```\n",
    "\n",
    "### Longitud de una Lista\n",
    "La longitud de una lista se puede obtener con la función predefinida `len()`, que devuelve la cantidad de elementos que tiene esa lista:\n"
   ]
  },
  {
   "cell_type": "code",
   "execution_count": 16,
   "id": "460ed22f",
   "metadata": {},
   "outputs": [
    {
     "name": "stdout",
     "output_type": "stream",
     "text": [
      "3\n"
     ]
    }
   ],
   "source": [
    "lista = [1, 2, 3]\n",
    "print(len(lista))"
   ]
  },
  {
   "cell_type": "markdown",
   "id": "0a0bf4f9",
   "metadata": {},
   "source": [
    "### Listas como Secuencias\n",
    "De la misma forma que venimos haciendo con las cadenas y las tuplas, podremos acceder a los elementos de una lista a través de su índice, *slicear* y recorrerla con un ciclo `for`.\n"
   ]
  },
  {
   "cell_type": "code",
   "execution_count": 17,
   "id": "aa8e19d0",
   "metadata": {},
   "outputs": [
    {
     "name": "stdout",
     "output_type": "stream",
     "text": [
      "1\n"
     ]
    }
   ],
   "source": [
    "lista = [1, 2, 3]\n",
    "print(lista[0])"
   ]
  },
  {
   "cell_type": "code",
   "execution_count": 18,
   "id": "a48854a1",
   "metadata": {},
   "outputs": [
    {
     "name": "stdout",
     "output_type": "stream",
     "text": [
      "['Informática', 'Química']\n"
     ]
    }
   ],
   "source": [
    "lista = [\"Civil\", \"Informática\", \"Química\", \"Industrial\"]\n",
    "print(lista[1:3])"
   ]
  },
  {
   "cell_type": "code",
   "execution_count": 19,
   "id": "cd37c16d",
   "metadata": {},
   "outputs": [
    {
     "name": "stdout",
     "output_type": "stream",
     "text": [
      "Civil\n",
      "Informática\n",
      "Química\n",
      "Industrial\n"
     ]
    }
   ],
   "source": [
    "lista = [\"Civil\", \"Informática\", \"Química\", \"Industrial\"]\n",
    "for elemento in lista:\n",
    "    print(elemento)"
   ]
  },
  {
   "cell_type": "markdown",
   "id": "729801d4",
   "metadata": {},
   "source": [
    "### Listas como Mutables\n",
    "A diferencia de las tuplas, las listas son mutables. Esto significa que podemos modificar sus elementos una vez creadas.\n",
    "\n",
    "- Para cambiar un elemento de una lista, se usa la notación de índices:\n"
   ]
  },
  {
   "cell_type": "code",
   "execution_count": 20,
   "id": "e2640961",
   "metadata": {},
   "outputs": [
    {
     "name": "stdout",
     "output_type": "stream",
     "text": [
      "[4, 2, 3]\n"
     ]
    }
   ],
   "source": [
    "lista = [1, 2, 3]\n",
    "lista[0] = 4\n",
    "print(lista)"
   ]
  },
  {
   "cell_type": "markdown",
   "id": "6a5c2413",
   "metadata": {},
   "source": [
    "- Para agregar un elemento al final de una lista, se usa el método `append()`:\n"
   ]
  },
  {
   "cell_type": "code",
   "execution_count": 21,
   "id": "360f7a54",
   "metadata": {},
   "outputs": [
    {
     "name": "stdout",
     "output_type": "stream",
     "text": [
      "[1, 2, 3, 4]\n"
     ]
    }
   ],
   "source": [
    "lista = [1, 2, 3]\n",
    "lista.append(4)\n",
    "print(lista)"
   ]
  },
  {
   "cell_type": "markdown",
   "id": "e6dc9531",
   "metadata": {},
   "source": [
    "- Para agregar un elemento en una posición específica de una lista, se usa el método `insert()`:\n"
   ]
  },
  {
   "cell_type": "code",
   "execution_count": 22,
   "id": "4bfa397b",
   "metadata": {},
   "outputs": [
    {
     "name": "stdout",
     "output_type": "stream",
     "text": [
      "[4, 1, 2, 3]"
     ]
    },
    {
     "name": "stdout",
     "output_type": "stream",
     "text": [
      "\n"
     ]
    }
   ],
   "source": [
    "lista = [1, 2, 3]\n",
    "lista.insert(0, 4)\n",
    "print(lista)"
   ]
  },
  {
   "cell_type": "markdown",
   "id": "05846080",
   "metadata": {},
   "source": [
    "El método ingresa el número `4` en la posición `0` de la lista, y desplaza el resto de los elementos hacia la derecha.\n"
   ]
  },
  {
   "cell_type": "code",
   "execution_count": 23,
   "id": "3cc84feb",
   "metadata": {},
   "outputs": [
    {
     "name": "stdout",
     "output_type": "stream",
     "text": [
      "[1, 3, 2, 3]\n"
     ]
    }
   ],
   "source": [
    "lista = [1, 2, 3]\n",
    "lista.insert(1, 3)\n",
    "print(lista)"
   ]
  },
  {
   "cell_type": "markdown",
   "id": "1aef6b5b",
   "metadata": {},
   "source": [
    "El método ingresa el número `3` en la posición `1` de la lista, y desplaza el resto de los elementos hacia la derecha.\n",
    "\n",
    "Las listas no controlan si se insertan elementos repetidos, por lo que si queremos exigir unicidad, debemos hacerlo mediante otras herramientas en nuestro código.\n",
    "\n",
    "- Para eliminar un elemento de una lista, se usa el método `remove()`:\n"
   ]
  },
  {
   "cell_type": "code",
   "execution_count": 24,
   "id": "d7b0622f",
   "metadata": {},
   "outputs": [
    {
     "name": "stdout",
     "output_type": "stream",
     "text": [
      "[1, 3]\n"
     ]
    }
   ],
   "source": [
    "lista = [1, 2, 3]\n",
    "lista.remove(2)\n",
    "print(lista)"
   ]
  },
  {
   "cell_type": "markdown",
   "id": "149ec6fd",
   "metadata": {},
   "source": [
    "Remove busca el elemento `2` en la lista y lo elimina. Si el elemento no existe, se produce un error.\n",
    "\n",
    "Si el valor está repetido, se eliminará la primera aparición del elemento, empezando por la izquierda.\n"
   ]
  },
  {
   "cell_type": "code",
   "execution_count": 25,
   "id": "9ac6fec9",
   "metadata": {},
   "outputs": [
    {
     "name": "stdout",
     "output_type": "stream",
     "text": [
      "[1, 3, 2]\n"
     ]
    }
   ],
   "source": [
    "lista = [1, 2, 3, 2]\n",
    "lista.remove(2)\n",
    "print(lista)"
   ]
  },
  {
   "cell_type": "markdown",
   "id": "fe48a10e",
   "metadata": {},
   "source": [
    "- Para quitar el último elemento de una lista, se usa el método `pop()`:\n"
   ]
  },
  {
   "cell_type": "code",
   "execution_count": 26,
   "id": "e0d82a45",
   "metadata": {},
   "outputs": [
    {
     "name": "stdout",
     "output_type": "stream",
     "text": [
      "[1, 2]\n"
     ]
    }
   ],
   "source": [
    "lista = [1, 2, 3]\n",
    "lista.pop()\n",
    "print(lista)"
   ]
  },
  {
   "cell_type": "markdown",
   "id": "9137d5f0",
   "metadata": {},
   "source": [
    "El método `pop()` devuelve el elemento que se eliminó de la lista. Si la lista está vacía, se produce un error.\n"
   ]
  },
  {
   "cell_type": "code",
   "execution_count": 27,
   "id": "9aeea9cf",
   "metadata": {},
   "outputs": [
    {
     "name": "stdout",
     "output_type": "stream",
     "text": [
      "3\n"
     ]
    }
   ],
   "source": [
    "lista = [1, 2, 3]\n",
    "elemento = lista.pop()\n",
    "print(elemento)"
   ]
  },
  {
   "cell_type": "markdown",
   "id": "b616667f",
   "metadata": {},
   "source": [
    "- Para quitar un elemento de una lista en una posición específica, se usa el método `pop()` con un índice:\n"
   ]
  },
  {
   "cell_type": "code",
   "execution_count": 28,
   "id": "d5ed3fe3",
   "metadata": {},
   "outputs": [
    {
     "name": "stdout",
     "output_type": "stream",
     "text": [
      "[1, 3]\n"
     ]
    }
   ],
   "source": [
    "lista = [1, 2, 3]\n",
    "lista.pop(1)\n",
    "print(lista)"
   ]
  },
  {
   "cell_type": "markdown",
   "id": "3febb342",
   "metadata": {},
   "source": [
    "Al igual que antes, el método `pop()` devuelve el elemento que se eliminó de la lista. Si la lista está vacía, se produce un error.\n",
    "\n",
    "- `extend()` agrega los elementos de una lista al final de otra. Es lo mismo que concatenar dos listas con el operador `+`:\n"
   ]
  },
  {
   "cell_type": "code",
   "execution_count": 29,
   "id": "e27cbb5a",
   "metadata": {},
   "outputs": [
    {
     "name": "stdout",
     "output_type": "stream",
     "text": [
      "[1, 2, 3, 4, 5, 6]\n"
     ]
    }
   ],
   "source": [
    "lista1 = [1, 2, 3]\n",
    "lista2 = [4, 5, 6]\n",
    "lista1.extend(lista2)\n",
    "print(lista1)"
   ]
  },
  {
   "cell_type": "markdown",
   "id": "0ff7df82",
   "metadata": {},
   "source": [
    "### Referencias de Listas\n"
   ]
  },
  {
   "cell_type": "code",
   "execution_count": 30,
   "id": "b5a034cc",
   "metadata": {},
   "outputs": [
    {
     "name": "stdout",
     "output_type": "stream",
     "text": [
      "[1, 2, 3]\n"
     ]
    }
   ],
   "source": [
    "a = [1,2,3,4]\n",
    "b = a\n",
    "a.pop()\n",
    "\n",
    "print(b)"
   ]
  },
  {
   "cell_type": "markdown",
   "id": "f927833f",
   "metadata": {},
   "source": [
    "Se dice que `b` es una referencia a `a`. Esto significa que `b` no es una copia de `a`, sino que es `a` misma. Por lo tanto, si modificamos `a`, también modificamos `b`.\n",
    "\n",
    "Una forma de crear una copia de una lista es usando el método `copy()`:\n"
   ]
  },
  {
   "cell_type": "code",
   "execution_count": 31,
   "id": "f0254813",
   "metadata": {},
   "outputs": [
    {
     "name": "stdout",
     "output_type": "stream",
     "text": [
      "[1, 2, 3, 4]\n"
     ]
    }
   ],
   "source": [
    "a = [1,2,3,4]\n",
    "b = a.copy()\n",
    "a.pop()\n",
    "\n",
    "print(b)"
   ]
  },
  {
   "cell_type": "markdown",
   "id": "705bf237",
   "metadata": {},
   "source": [
    "### Búsqueda de Elementos en una Lista\n",
    "- Para saber si un elemento se encuentra en una lista, se puede utilizar el operador `in`:\n"
   ]
  },
  {
   "cell_type": "code",
   "execution_count": 32,
   "id": "b127d494",
   "metadata": {},
   "outputs": [
    {
     "name": "stdout",
     "output_type": "stream",
     "text": [
      "True\n"
     ]
    }
   ],
   "source": [
    "lista = [1, 2, 3]\n",
    "print(2 in lista)"
   ]
  },
  {
   "cell_type": "markdown",
   "id": "4f941e45",
   "metadata": {},
   "source": [
    "Como vemos, el operador `in` es válido para todas las secuencias, incluyendo tuplas y cadenas.\n",
    "\n",
    "- Para averiguar la posición de un valor dentro de una lista, usaremos el método `index()`:\n"
   ]
  },
  {
   "cell_type": "code",
   "execution_count": 33,
   "id": "cf5b821f",
   "metadata": {},
   "outputs": [
    {
     "name": "stdout",
     "output_type": "stream",
     "text": [
      "2\n"
     ]
    }
   ],
   "source": [
    "lista = [\"a\", \"b\", \"t\", \"z\"]\n",
    "print(lista.index(\"t\"))"
   ]
  },
  {
   "cell_type": "markdown",
   "id": "da225ca1",
   "metadata": {},
   "source": [
    "Si el valor no se encuentra en la lista, se produce un error.\\\n",
    "Si el valor se encuentra repetido, se devuelve la posición de la primera aparición del elemento, empezando por la izquierda.\n",
    "\n",
    "### Iterando sobre Listas\n",
    "Las listas son secuencias, y por lo tanto podemos iterar sobre ellas. Esto significa que podemos recorrerlas con un ciclo `for`:\n"
   ]
  },
  {
   "cell_type": "code",
   "execution_count": 34,
   "id": "fea05101",
   "metadata": {},
   "outputs": [
    {
     "name": "stdout",
     "output_type": "stream",
     "text": [
      "1\n",
      "2\n",
      "3\n"
     ]
    }
   ],
   "source": [
    "lista = [1, 2, 3]\n",
    "for elemento in lista:\n",
    "    print(elemento)"
   ]
  },
  {
   "cell_type": "markdown",
   "id": "96b775e2",
   "metadata": {},
   "source": [
    "Esta forma de recorrer elementos usando `for` es utilizable con todos los tipos de secuencias.\n",
    "\n",
    "### Ordenando Listas\n",
    "Nos puede interesar que los elementos de una lista estén ordenados según algún criterio. Python provee dos operaciones para obtener una lista ordenada a partir de la desordenada.\n",
    "\n",
    "- `sorted(s)` devuelve una lista ordenada con los elementos de la secuencia `s`. La secuencia `s` no se modifica.\n"
   ]
  },
  {
   "cell_type": "code",
   "execution_count": 35,
   "id": "31be1192",
   "metadata": {},
   "outputs": [
    {
     "name": "stdout",
     "output_type": "stream",
     "text": [
      "[3, 1, 2]\n",
      "[1, 2, 3]\n"
     ]
    }
   ],
   "source": [
    "lista = [3, 1, 2]\n",
    "lista_nueva = sorted(lista)\n",
    "\n",
    "print(lista)\n",
    "print(lista_nueva)"
   ]
  },
  {
   "cell_type": "markdown",
   "id": "19093f62",
   "metadata": {},
   "source": [
    "- `s.sort()` ordena la lista `s` en el lugar. Es decir, modifica la lista `s` y no devuelve nada.\n"
   ]
  },
  {
   "cell_type": "code",
   "execution_count": 36,
   "id": "36439c2c",
   "metadata": {},
   "outputs": [
    {
     "name": "stdout",
     "output_type": "stream",
     "text": [
      "[1, 2, 3]\n"
     ]
    }
   ],
   "source": [
    "lista = [3, 1, 2]\n",
    "lista.sort()\n",
    "\n",
    "print(lista)"
   ]
  },
  {
   "cell_type": "markdown",
   "id": "47c008c1",
   "metadata": {},
   "source": [
    "Tanto el método `sort()` como el método `sorted()` ordenan la lista en orden ascendente. Si queremos ordenarla en orden descendente, podemos usar el parámetro `reverse`:\n"
   ]
  },
  {
   "cell_type": "code",
   "execution_count": 37,
   "id": "989f9da9",
   "metadata": {},
   "outputs": [
    {
     "name": "stdout",
     "output_type": "stream",
     "text": [
      "[3, 2, 1]\n"
     ]
    }
   ],
   "source": [
    "lista = [3, 1, 2]\n",
    "lista.sort(reverse=True)\n",
    "print(lista)"
   ]
  },
  {
   "cell_type": "markdown",
   "id": "2d1f22bd",
   "metadata": {},
   "source": [
    "Existe un método `reverse` (no disponible en Replit) que invierte la lista sin ordenarla. Una forma de reemplazarlo es usando *slices*, como ya vimos: `lista[::-1]`.\n",
    "\n",
    ":::{.callout-warning collapse=\"true\"}\n",
    "### ¡Cuidado con los Ordenamientos!\n",
    "1. Todos los elementos de la secuencia deben ser comparables entre sí. Si no lo son, se producirá un error. Por ejemplo, no se puede ordenar una lista que contenga números y strings.\n",
    "\n",
    "2. Al ordenar, las letras en minúscula no valen lo mismo que las letras en mayúscula. Si queremos ordenar \"hola\" y \"HOLA\" (por ejemplo), tenemos que compararlas convirtiendo todo a minúscula o todo a mayúscula.\\\n",
    "De lo contrario, se ordena poniendo las mayúsculas primero y luego las minúsculas.\n",
    "Es decir, para una lista con los valores `[\"hola\", \"HOLA\"]`, el ordenamiento será `[\"HOLA\", \"hola\"]`.\n",
    "\n",
    "¿Existe una forma mejor de hacerlo? Sí. Usando *keys* de ordenamiento:\n"
   ]
  },
  {
   "cell_type": "code",
   "execution_count": 38,
   "id": "decfa892",
   "metadata": {},
   "outputs": [
    {
     "name": "stdout",
     "output_type": "stream",
     "text": [
      "['hola', 'HOLA']\n"
     ]
    }
   ],
   "source": [
    "lista = [\"hola\", \"HOLA\"]\n",
    "lista.sort(key=str.lower)\n",
    "print(lista)"
   ]
  },
  {
   "cell_type": "markdown",
   "id": "042be13d",
   "metadata": {},
   "source": [
    "Lo importante de momento es que sepas que existe esta forma de ordenar. A *key* se le puede pasar una función que se va a aplicar a cada elemento de la lista antes de ordenar. En este caso, la función `str.lower` convierte todo a minúscula antes de intentar ordenar.\n",
    ":::\n",
    "\n",
    "### Listas anidadas\n",
    "Las listas también puede estar anidadas, es decir, una lista puede contener a otras listas. Por ejemplo, podemos tener una lista de listas de números:\n",
    "\n",
    "```python\n",
    "valores = [[1, 2, 3], [4, 5, 6], [7, 8, 9]]\n",
    "```\n",
    "\n",
    "Aquía $valores$ es una lista que contiene 3 elementos, que a su vez son también listas. Entonces, `valores[0]` sería la lista `[1,2,3]`. Si quisiéramos, por ejemplo, acceder al número `2` de dicha lista, tendríamos que volver a acceder al índice `1` de la lista `valores[0]`:\n"
   ]
  },
  {
   "cell_type": "code",
   "execution_count": 39,
   "id": "5a80fcbc",
   "metadata": {},
   "outputs": [
    {
     "name": "stdout",
     "output_type": "stream",
     "text": [
      "2\n"
     ]
    }
   ],
   "source": [
    "valores = [[1, 2, 3], [4, 5, 6], [7, 8, 9]]\n",
    "numero = valores[0][1]\n",
    "print(numero)"
   ]
  },
  {
   "cell_type": "markdown",
   "id": "e9f66966",
   "metadata": {},
   "source": [
    ":::{.callout-note} \n",
    "### Generalización\n",
    "Este concepto de listas anidadas se puede generalizar a cualquier secuencia anidada. Por ejemplo, una tupla de tuplas, o una lista de tuplas, o una tupla de listas, etc.\n"
   ]
  },
  {
   "cell_type": "code",
   "execution_count": 40,
   "id": "b5b87af3",
   "metadata": {},
   "outputs": [
    {
     "name": "stdout",
     "output_type": "stream",
     "text": [
      "6\n"
     ]
    }
   ],
   "source": [
    "tupla = ((1, 2, 3), (4, 5, 6), (7, 8, 9))\n",
    "numero = tupla[1][2]\n",
    "print(numero)"
   ]
  },
  {
   "cell_type": "code",
   "execution_count": 41,
   "id": "8464d3ff",
   "metadata": {},
   "outputs": [
    {
     "name": "stdout",
     "output_type": "stream",
     "text": [
      "7\n"
     ]
    }
   ],
   "source": [
    "lista = [(1, 2, 3), (4, 5, 6), (7, 8, 9)]\n",
    "numero = lista[2][0]\n",
    "print(numero)"
   ]
  },
  {
   "cell_type": "code",
   "execution_count": 42,
   "id": "d6579cff",
   "metadata": {},
   "outputs": [
    {
     "name": "stdout",
     "output_type": "stream",
     "text": [
      "2\n"
     ]
    }
   ],
   "source": [
    "tupla = ([1, 2, 3], [4, 5, 6], [7, 8, 9])\n",
    "numero = tupla[0][1]\n",
    "print(numero)"
   ]
  },
  {
   "cell_type": "markdown",
   "id": "47c3b6d1",
   "metadata": {},
   "source": [
    "Incluso se puede reemplazar un elemento anidado por otro:\n"
   ]
  },
  {
   "cell_type": "code",
   "execution_count": 43,
   "id": "95826344",
   "metadata": {},
   "outputs": [
    {
     "name": "stdout",
     "output_type": "stream",
     "text": [
      "([1, 10, 3], [4, 5, 6], [7, 8, 9])\n"
     ]
    }
   ],
   "source": [
    "tupla = ([1, 2, 3], [4, 5, 6], [7, 8, 9])\n",
    "tupla[0][1] = 10\n",
    "print(tupla)"
   ]
  },
  {
   "cell_type": "markdown",
   "id": "59c081b4",
   "metadata": {},
   "source": [
    "Esto es válido siempre y cuando el *elemento* a reemplazar esté dentro de una secuencia *mutable*. En el caso de arriba, estamos cambiando el valor de una lista, que se encuentra dentro de la tupla. La tupla no cambia: sigue teniendo 3 listas guardadas.\n",
    "\n",
    "Si quisiéramos editar una tupla guardada dentro de una lista, no funcionaría:\n",
    "  \n",
    "```python\n",
    "lista = [(1, 2, 3), (4, 5, 6), (7, 8, 9)]\n",
    "lista[0][1] = 10\n",
    "print(lista)\n",
    "```\n",
    "\n",
    "\n",
    "\n",
    "\n",
    "\n",
    "\n",
    "```{error}\n",
    "TypeError: 'tuple' object does not support item assignment\n",
    "```\n",
    "\n",
    "\n",
    "\n",
    "\n",
    "\n",
    ":::\n",
    "\n",
    "Las listas anidadas suelen usarse para representar matrices. Para ello, se puede pensar que cada lista representa una fila de la matriz, y cada elemento de la lista representa un elemento de la fila. Por ejemplo, la matriz:\n",
    "\n",
    "$$\n",
    "\\begin{bmatrix}\n",
    "1 & 2 & 3 \\\\\n",
    "4 & 5 & 6 \\\\\n",
    "7 & 8 & 9\n",
    "\\end{bmatrix}\n",
    "$$\n",
    "\n",
    "se puede representar como la lista de listas:\n",
    "\n",
    "```python\n",
    "matriz = [[1, 2, 3], [4, 5, 6], [7, 8, 9]]\n",
    "```\n",
    "\n",
    "::: {.callout-important}\n",
    "### Ejercicio Desafío\n",
    "Escribir una función que reciba una cantidad de filas y una cantidad de columnas y devuelva una matriz de ceros de ese tamaño.\\\n",
    "Ejemplo: `matrix(2,3)` devuelve `[[0, 0, 0], [0, 0, 0]]`\n",
    ":::\n",
    "\\\n",
    "\n",
    "> **Ejemplo**\n",
    "Dada una lista de tuplas de dos elementos (precio, producto), desempaquetar la lista en dos listas separadas: una con los precios y otra con los productos.\n"
   ]
  },
  {
   "cell_type": "code",
   "execution_count": 44,
   "id": "44fd172a",
   "metadata": {},
   "outputs": [
    {
     "name": "stdout",
     "output_type": "stream",
     "text": [
      "[100, 200, 300]\n",
      "['Coca Cola', 'Pepsi', 'Sprite']\n"
     ]
    }
   ],
   "source": [
    "lista = [(100, \"Coca Cola\"), (200, \"Pepsi\"), (300, \"Sprite\")]\n",
    "\n",
    "precios = []\n",
    "productos = []\n",
    "\n",
    "for precio, producto in lista: # Acá estamos desempaquetando: precio, producto\n",
    "    precios.append(precio)\n",
    "    productos.append(producto)\n",
    "\n",
    "print(precios)\n",
    "print(productos)"
   ]
  },
  {
   "cell_type": "markdown",
   "id": "3529ff3f",
   "metadata": {},
   "source": [
    "## Listas y Cadenas\n",
    "Vimos que las cadenas tienen el método `split`, que nos permite separar una cadena en una lista de subcadenas. Por ejemplo:\n"
   ]
  },
  {
   "cell_type": "code",
   "execution_count": 45,
   "id": "e0108f8f",
   "metadata": {},
   "outputs": [
    {
     "name": "stdout",
     "output_type": "stream",
     "text": [
      "['Esta', 'es', 'una', 'cadena', 'con', 'espacios', 'varios']\n"
     ]
    }
   ],
   "source": [
    "cadena = \"Esta es una      cadena con    espacios   varios\"\n",
    "lista = cadena.split()\n",
    "\n",
    "print(lista)"
   ]
  },
  {
   "cell_type": "markdown",
   "id": "9a615e17",
   "metadata": {},
   "source": [
    "También podemos hacer lo contrario: podemos unir una lista de subcadenas en una cadena usando el método `join`:\n"
   ]
  },
  {
   "cell_type": "code",
   "execution_count": 46,
   "id": "182ccd36",
   "metadata": {},
   "outputs": [
    {
     "name": "stdout",
     "output_type": "stream",
     "text": [
      "Esta es una cadena con espacios varios\n"
     ]
    }
   ],
   "source": [
    "lista = [\"Esta\", \"es\", \"una\", \"cadena\", \"con\", \"espacios\", \"varios\"]\n",
    "cadena = \" \".join(lista)\n",
    "\n",
    "print(cadena)"
   ]
  },
  {
   "cell_type": "markdown",
   "id": "ce2c683b",
   "metadata": {},
   "source": [
    "La sintaxis del método join es:\n",
    "  \n",
    "```python\n",
    "<separador>.join(<lista>)\n",
    "```\n",
    "\n",
    "El separador es el caracter que se va a usar para unir los elementos de la lista. En el ejemplo, el separador es un espacio `\" \"`, pero puede ser cualquier caracter. La lista contiene a las subcadenas que se van a unir.\n",
    "\n",
    "## Operaciones de las Secuencias\n",
    "Tanto las cadenas, como las tuplas y las listas son secuencias, y por lo tanto comparten una serie de operaciones que podemos realizar sobre ellas.\n",
    "\n",
    "| Operación | Descripción |\n",
    "|---|---|\n",
    "| `x in s` | Devuelve `True` si el elemento `x` se encuentra en la secuencia `s`, `False` en caso contrario |\n",
    "| `s + t ` | Concatena las secuencias `s` y `t` |\n",
    "| `s * n` | Repite la secuencia `s` `n` veces |\n",
    "| `s[i]` | Devuelve el elemento de la secuencia `s` en la posición `i` |\n",
    "| `s[i:j:k]` | Devuelve un *slice* de la secuencia `s` desde la posición `i` hasta la posición `j` (no incluída), con pasos de a `k` |\n",
    "| `len(s)` | Devuelve la cantidad de elementos de la secuencia `s` |\n",
    "| `min(s)` | Devuelve el elemento mínimo de la secuencia `s` |\n",
    "| `max(s)` | Devuelve el elemento máximo de la secuencia `s` |\n",
    "| `sum(s)` | Devuelve la suma de los elementos de la secuencia `s` |\n",
    "| `count(x)` | Devuelve la cantidad de veces que aparece el elemento `x` en la secuencia `s` |\n",
    "| `index(x)` | Devuelve el índice de la primera aparición del elemento `x` en la secuencia `s` |\n",
    "\n",
    ":::{.callout-tip}\n",
    "Te recomendamos que pruebes cada una de estas operaciones con las distintas secuencias que vimos en este capítulo.\n",
    ":::\n",
    "\n",
    "Además, es posible crear una lista o tupla a partir de cualquier otra secuencia, usando las funciones `list` y `tuple` respectivamente:\n"
   ]
  },
  {
   "cell_type": "code",
   "execution_count": 47,
   "id": "e261f2e3",
   "metadata": {},
   "outputs": [
    {
     "name": "stdout",
     "output_type": "stream",
     "text": [
      "['H', 'o', 'l', 'a']\n"
     ]
    }
   ],
   "source": [
    "lista = list(\"Hola\")\n",
    "print(lista)"
   ]
  },
  {
   "cell_type": "code",
   "execution_count": 48,
   "id": "75bb5d3f",
   "metadata": {},
   "outputs": [
    {
     "name": "stdout",
     "output_type": "stream",
     "text": [
      "('H', 'o', 'l', 'a')\n"
     ]
    }
   ],
   "source": [
    "tupla = tuple(\"Hola\")\n",
    "print(tupla)"
   ]
  },
  {
   "cell_type": "code",
   "execution_count": 49,
   "id": "db5028ab",
   "metadata": {},
   "outputs": [
    {
     "name": "stdout",
     "output_type": "stream",
     "text": [
      "[1, 2, 3]\n"
     ]
    }
   ],
   "source": [
    "lista = list( (1, 2, 3) ) # Convertimos una tupla en una lista\n",
    "print(lista)"
   ]
  },
  {
   "cell_type": "markdown",
   "id": "e1e7f4fd",
   "metadata": {},
   "source": [
    "Esta última es particularmente útil cuando necesitamos trabajar con una tupla, pero como son inmutables, la convertimos a lista para manipularla sin problemas.\n",
    "\n",
    ">**Ejercicio**\n",
    "Escribir una función que le pida al usuario que ingrese números enteros positivos, los vaya agregando a una lista, y que cuando el usuario ingrese un 0, devuelva la lista de números ingresados.\n",
    "\n",
    "```python\n",
    "def ingresar_numeros():\n",
    "    numeros = []\n",
    "    numero = int(input(\"Ingrese un número: \"))\n",
    "\n",
    "    while numero != 0:\n",
    "        numeros.append(numero)\n",
    "        numero = int(input(\"Ingrese un número: \"))\n",
    "    return numeros\n",
    "```\n",
    "\\\n",
    "\n",
    "---\n",
    "\n",
    "\\\n",
    "\n",
    "> **Ejercicio**\n",
    "Escribir una función que cuente la cantidad de letras que tiene una cadena de caracteres, y devuelva su valor.\\\n",
    "Luego, usar esa función como *key* para ordenar la siguiente lista: `[\"Año\", \"Onomatopeya\", \"Murcielago\", \"Arañas\", \"Messi\", \"Camiseta\"]`.\n"
   ]
  },
  {
   "cell_type": "code",
   "execution_count": 50,
   "id": "ad7e9fe3",
   "metadata": {},
   "outputs": [
    {
     "name": "stdout",
     "output_type": "stream",
     "text": [
      "['Año', 'Messi', 'Arañas', 'Camiseta', 'Murcielago', 'Onomatopeya']\n"
     ]
    }
   ],
   "source": [
    "def contar_letras(cadena):\n",
    "    return len(cadena)\n",
    "\n",
    "lista = [\"Año\", \"Onomatopeya\", \"Murcielago\", \"Arañas\", \"Messi\", \"Camiseta\"]\n",
    "lista.sort(key=contar_letras)\n",
    "\n",
    "print(lista)"
   ]
  },
  {
   "cell_type": "markdown",
   "id": "8d3651c7",
   "metadata": {},
   "source": [
    ":::{.callout-important}\n",
    "### Ejercicio Desafío\n",
    "Escribir una función que cuente la cantidad de vocales que tiene una cadena de caracteres, y devuelva su valor. Debe considerar mayúsculas y minúsculas. Pista: podés usar la función para saber si una letra es vocal que hiciste en la unidad 3.\n",
    "\n",
    "Luego, usar esa función como *key* para ordenar la siguiente lista: `[\"Año\", \"Onomatopeya\", \"Murcielago\", \"Arañas\", \"Messi\", \"Camiseta\"]`.\\\n",
    ":::\n",
    "\\\n",
    "\n",
    "---\n",
    "\n",
    "\\\n",
    "\n",
    "### Map\n",
    "La función `map` aplica una función a cada uno de los elementos de una secuencia, y devuelve una nueva secuencia con los resultados.\n"
   ]
  },
  {
   "cell_type": "code",
   "execution_count": 51,
   "id": "6e9b9173",
   "metadata": {},
   "outputs": [
    {
     "name": "stdout",
     "output_type": "stream",
     "text": [
      "[1, 4, 9, 16]\n"
     ]
    }
   ],
   "source": [
    "def obtener_cuadrado(x):\n",
    "  return x**2\n",
    "\n",
    "lista = [1, 2, 3, 4]\n",
    "lista_cuadrados = list(map(obtener_cuadrado, lista))\n",
    "print(lista_cuadrados)"
   ]
  },
  {
   "cell_type": "markdown",
   "id": "1c5d268e",
   "metadata": {},
   "source": [
    "La sintaxis es:\n",
    "\n",
    "```python\n",
    "map(<funcion>, <secuencia>)\n",
    "```\n",
    "\n",
    "La función `map` devuelve un objeto de tipo `map`, por lo que en general lo vamos a convertir a una lista usando `list()`. Sin embargo, el tipo `map` es iterable, por lo que podríamos recorrerlo con un ciclo `for`:\n"
   ]
  },
  {
   "cell_type": "code",
   "execution_count": 52,
   "id": "bbe11c40",
   "metadata": {},
   "outputs": [
    {
     "name": "stdout",
     "output_type": "stream",
     "text": [
      "1\n",
      "4\n",
      "9\n",
      "16\n"
     ]
    }
   ],
   "source": [
    "for n in lista_cuadrados:\n",
    "  print(n)"
   ]
  },
  {
   "cell_type": "markdown",
   "id": "86580a84",
   "metadata": {},
   "source": [
    ":::{.callout-tip}\n",
    "Las funciones a pasar como parámetro a `map` devuelven *valores transformados* del elemento original. Lo que hace `map` es aplicar la función a cada uno de los elementos de la secuencia original.\n",
    ":::\n",
    "\n",
    "### Filter\n",
    "La función `filter` aplica una función a cada uno de los elementos de una secuencia, y devuelve una nueva secuencia con los elementos para los cuales la función devuelve `True`.\n"
   ]
  },
  {
   "cell_type": "code",
   "execution_count": 53,
   "id": "aab54f49",
   "metadata": {},
   "outputs": [
    {
     "name": "stdout",
     "output_type": "stream",
     "text": [
      "[2, 4]\n"
     ]
    }
   ],
   "source": [
    "def es_par(x):\n",
    "  return x % 2 == 0\n",
    "\n",
    "lista = [1, 2, 3, 4]\n",
    "lista_pares = list(filter(es_par, lista))\n",
    "print(lista_pares)"
   ]
  },
  {
   "cell_type": "markdown",
   "id": "ce68428f",
   "metadata": {},
   "source": [
    "La sintaxis es:\n",
    "\n",
    "```python\n",
    "filter(<funcion>, <secuencia>)\n",
    "```\n",
    "\n",
    "La función `filter` devuelve un objeto de tipo `filter`, por lo que en general lo vamos a convertir a una lista usando `list()`. Sin embargo, el tipo `filter` es iterable, por lo que podríamos recorrerlo con un ciclo `for`:\n"
   ]
  },
  {
   "cell_type": "code",
   "execution_count": 54,
   "id": "c12be744",
   "metadata": {},
   "outputs": [
    {
     "name": "stdout",
     "output_type": "stream",
     "text": [
      "2"
     ]
    },
    {
     "name": "stdout",
     "output_type": "stream",
     "text": [
      "\n",
      "4\n"
     ]
    }
   ],
   "source": [
    "for n in lista_pares:\n",
    "  print(n)"
   ]
  },
  {
   "cell_type": "markdown",
   "id": "743af1fa",
   "metadata": {},
   "source": [
    ":::{.callout-tip}\n",
    "Las funciones a pasar como parámetro a `filter` devuelven *valores booleanos* del elemento original. Lo que hace `filter` es filtrar la secuencia original y quedarse sólo con los valores para los cuales la función devuelve `True`.\n",
    ":::\n",
    "\n",
    "> **Ejemplo**\n",
    "Escribir una función que reciba una lista de números y devuelva una lista con los números positivos de la lista original.\n"
   ]
  },
  {
   "cell_type": "code",
   "execution_count": 55,
   "id": "09af653c",
   "metadata": {},
   "outputs": [
    {
     "name": "stdout",
     "output_type": "stream",
     "text": [
      "[1, 3, 5]\n"
     ]
    }
   ],
   "source": [
    "def es_positivo(x):\n",
    "  return x > 0\n",
    "\n",
    "def quitar_negativos_o_cero(lista):\n",
    "  return list(filter(es_positivo, lista))\n",
    "\n",
    "lista = [1, -2, 3, -4, 5, 0]\n",
    "lista_positivos = quitar_negativos_o_cero(lista)\n",
    "print(lista_positivos)"
   ]
  },
  {
   "cell_type": "markdown",
   "id": "1a256e74",
   "metadata": {},
   "source": [
    "> **Ejemplo**\n",
    "Escribir una función que reciba una lista de nombres y devuelva una lista con los mismos nombres pero con la primer letra en mayúscula.\n"
   ]
  },
  {
   "cell_type": "code",
   "execution_count": 56,
   "id": "fce37405",
   "metadata": {},
   "outputs": [
    {
     "name": "stdout",
     "output_type": "stream",
     "text": [
      "['Pilar', 'Barbie', 'Violeta']\n"
     ]
    }
   ],
   "source": [
    "def capitalizar_nombre(nombre):\n",
    "  return nombre.capitalize()\n",
    "\n",
    "def capitalizar_lista(lista):\n",
    "  return list(map(capitalizar_nombre, lista))\n",
    "\n",
    "lista = [\"pilar\", \"barbie\", \"violeta\"]\n",
    "lista_capitalizada = capitalizar_lista(lista)\n",
    "print(lista_capitalizada)"
   ]
  },
  {
   "cell_type": "markdown",
   "id": "a80af045",
   "metadata": {},
   "source": [
    ":::{.callout-note}\n",
    "Tanto `map` como `filter` son aplicables a cualquiera de las secuencias vistas (rangos, cadena de caracteres, listas, tuplas).\n",
    ":::\n",
    "\\\n",
    "\n",
    "---\n",
    "\n",
    "\\\n",
    "\n",
    ":::{.callout-important}\n",
    "### Ejercicio Desafío\n",
    "Se está procesando una base de datos para entrenar un modelo de Machine Learning. La base de datos contiene información de personas, y cada persona está representada por una tupla de 2 elementos: nombre, edad.\\\n",
    "Escribir una función que reciba una lista de estas tuplas. La función debe devolver la lista ordenada por edad; y filtrada de forma que sólo queden los nombres de las personas mayores de edad (>18). Además, los nombres deben estar en mayúscula.\\\n",
    "Ejemplo:\\\n",
    "Si se tiene `[(\"sol\", 40), (\"priscila\", 15), (\"agostina\", 30)]`\\\n",
    "una vez ejecutada, la función debe devolver:\n",
    "`[(\"AGOSTINA\",30), (\"SOL\",40)]`\n",
    ":::\n",
    "\n",
    "## Diccionarios\n",
    "Un diccionario es una colección de pares clave-valor. Es una estructura de datos que nos permite guardar información de forma organizada, y acceder a ella de forma eficiente. Cada clave está asociada a un valor determinado.\n",
    "\n",
    "![Diccionario cuyas claves son dominios de internet (.ar, .es, .tv) y cuyos valores asociados son los países correspondientes.](./imgs/unidad_4/diccionarios1.png)\n",
    "\n",
    "Las claves deben ser únicas, es decir, no puede haber dos claves iguales en un mismo diccionario. Los valores pueden repetirse. Si se asigna un valor a una clave ya existente, se reemplaza el valor anterior.\n",
    "\n",
    "Podemos acceder a un valor a través de su clave porque las claves son únicas, pero no a la inversa. Es decir, no podemos acceder a una clave a través de su valor, porque los valores pueden repetirse y podría haber varias claves asociadas al mismo valor.\n",
    "\n",
    "Además, los diccionarios no tienen un orden interno particular. Se consideran entonces iguales dos diccionarios si tienen las mismas claves asociadas a los mismos valores, independientemente del orden en que se hayan agregado.\n",
    "\n",
    "Al igual que las listas, los diccionarios son mutables. Esto significa que podemos modificar sus elementos una vez creados.\n",
    "\n",
    "- Cualquier valor de tipo inmutable puede ser `clave` de un diccionario: cadenas, enteros tuplas.\n",
    "- No hay restricciones para los `valores`, pueden ser de cualquier tipo: cadenas, enteros, tuplas, listas, otros diccionarios, etc.\n",
    "\n",
    "### Diccionarios en Python\n",
    "Para definir un diccionario, se utilizan llaves `{}` y se separan las claves de los valores con dos puntos `:`. Cada par clave-valor se separa con comas `,`.\n"
   ]
  },
  {
   "cell_type": "code",
   "execution_count": 57,
   "id": "5835785a",
   "metadata": {},
   "outputs": [],
   "source": [
    "dominios = {\"ar\": \"Argentina\", \"es\": \"España\", \"tv\": \"Tuvalu\"}"
   ]
  },
  {
   "cell_type": "markdown",
   "id": "af19ccb6",
   "metadata": {},
   "source": [
    "El tipo asociado a los diccionarios es `dict`:\n"
   ]
  },
  {
   "cell_type": "code",
   "execution_count": 58,
   "id": "ced024eb",
   "metadata": {},
   "outputs": [
    {
     "name": "stdout",
     "output_type": "stream",
     "text": [
      "<class 'dict'>\n"
     ]
    }
   ],
   "source": [
    "print(type(dominios))"
   ]
  },
  {
   "cell_type": "markdown",
   "id": "a7399e11",
   "metadata": {},
   "source": [
    "Para declararlo vacío y luego ingresar valores, se lo declara como un par de llaves vacías. Luego, haciendo uso de la notación de corchetes `[]`, se le asigna un valor a una clave:\n"
   ]
  },
  {
   "cell_type": "code",
   "execution_count": 59,
   "id": "4d8a3711",
   "metadata": {},
   "outputs": [],
   "source": [
    "materias = {}\n",
    "materias[\"lunes\"] = [6103, 7540]\n",
    "materias[\"martes\"] = [6201]\n",
    "materias[\"miércoles\"] = [6103, 7540]\n",
    "materias[\"jueves\"] = []\n",
    "materias[\"viernes\"] = [6201]"
   ]
  },
  {
   "cell_type": "markdown",
   "id": "ac95b8ee",
   "metadata": {},
   "source": [
    "En el código de arriba, se está creando una variable `materias` de tipo `dict`, y se le están asignando valores a las claves `\"lunes\"`, `\"martes\"`, `\"miércoles\"`, `\"jueves\"` y `\"viernes\"`.\\\n",
    "Los valores asociados a cada clave son listas con los códigos de las materias que se dan esos días.\n",
    "El diccionario se ve algo así:\n",
    "\n",
    "```\n",
    "{\n",
    "    \"lunes\": [6103, 7540],\n",
    "    \"martes\": [6201],\n",
    "    \"miércoles\": [6103, 7540],\n",
    "    \"jueves\": [],\n",
    "    \"viernes\": [6201]\n",
    "}\n",
    "```\n",
    "\n",
    "### Accediendo a los Valores de un Diccionario\n",
    "Para acceder a los valores de un diccionario, se utiliza la notación de corchetes `[]` con la clave correspondiente:\n"
   ]
  },
  {
   "cell_type": "code",
   "execution_count": 60,
   "id": "a724e239",
   "metadata": {},
   "outputs": [
    {
     "name": "stdout",
     "output_type": "stream",
     "text": [
      "[6103, 7540]\n"
     ]
    }
   ],
   "source": [
    "cods_lunes = materias[\"lunes\"]\n",
    "print(cods_lunes)"
   ]
  },
  {
   "cell_type": "markdown",
   "id": "7b84f6de",
   "metadata": {},
   "source": [
    "Veamos que la clave \"lunes\" no va a ser igual a la clave \"Lunes\" o \"LUNES\", porque como ya dijimos antes, Python es *case sensitive*.\n",
    "\n",
    ":::{.callout-warning}\n",
    "### ¡Cuidado! Acceso a Claves que no Existen\n",
    "Si intentamos acceder a una clave que no existe en el diccionario, se produce un error:\n",
    "\n",
    "```python\n",
    "print(materias[\"sábado\"])\n",
    "```\n",
    "\n",
    "\n",
    "\n",
    "\n",
    "\n",
    "\n",
    "```{error}\n",
    "Traceback (most recent call last):\n",
    "File \"<stdin>\", line 1, in <module>\n",
    "KeyError: 'sábado'\n",
    "```\n",
    "\n",
    "\n",
    "\n",
    "\n",
    "\n",
    ":::\n",
    "\n",
    "\\\n",
    "Para evitar tratar de acceder a una clave que no existe, podemos verificar si una clave se encuentra o no en el diccionario haciendo uso del operador `in`:\n"
   ]
  },
  {
   "cell_type": "code",
   "execution_count": 61,
   "id": "0b9256ff",
   "metadata": {},
   "outputs": [
    {
     "name": "stdout",
     "output_type": "stream",
     "text": [
      "No hay clases el sábado\n"
     ]
    }
   ],
   "source": [
    "if \"sábado\" in materias:\n",
    "    print(materias[\"sábado\"])\n",
    "else:\n",
    "    print(\"No hay clases el sábado\")"
   ]
  },
  {
   "cell_type": "markdown",
   "id": "08baeeca",
   "metadata": {},
   "source": [
    "También podemos usar la función `get`, que recibe una clave `k`y un valor por omisión `v`, y devuelve el valor asociado a la clave `k`, en caso de existir, o el valor `v` en caso contrario.\n"
   ]
  },
  {
   "cell_type": "code",
   "execution_count": 62,
   "id": "854574b9",
   "metadata": {},
   "outputs": [
    {
     "name": "stdout",
     "output_type": "stream",
     "text": [
      "Error de clave: sábado\n"
     ]
    }
   ],
   "source": [
    "print(materias.get(\"sábado\", \"Error de clave: sábado\"))"
   ]
  },
  {
   "cell_type": "code",
   "execution_count": 63,
   "id": "31c931d3",
   "metadata": {},
   "outputs": [
    {
     "name": "stdout",
     "output_type": "stream",
     "text": [
      "[]\n"
     ]
    }
   ],
   "source": [
    "print(materias.get(\"domingo\",[]))"
   ]
  },
  {
   "cell_type": "markdown",
   "id": "f5d8eece",
   "metadata": {},
   "source": [
    "Como vemos el valor por omisión puede ser de cualquier tipo.\n",
    "\n",
    "### Iterando Elementos del Diccionario\n",
    "\n",
    "#### Por Claves\n",
    "Para iterar sobre las claves de un diccionario, podemos usar un ciclo `for`:\n"
   ]
  },
  {
   "cell_type": "code",
   "execution_count": 64,
   "id": "22ed5faa",
   "metadata": {},
   "outputs": [
    {
     "name": "stdout",
     "output_type": "stream",
     "text": [
      "El lunes tengo que cursar las materias [6103, 7540]\n",
      "El martes tengo que cursar las materias [6201]\n",
      "El miércoles tengo que cursar las materias [6103, 7540]\n",
      "El jueves tengo que cursar las materias []\n",
      "El viernes tengo que cursar las materias [6201]\n"
     ]
    }
   ],
   "source": [
    "for dia in materias:\n",
    "    print(f\"El {dia} tengo que cursar las materias {materias[dia]}\")"
   ]
  },
  {
   "cell_type": "markdown",
   "id": "3b960e84",
   "metadata": {},
   "source": [
    "También podemos obtener las claves del diccionario como una lista usando el método `keys()`:\n"
   ]
  },
  {
   "cell_type": "code",
   "execution_count": 65,
   "id": "ae3bfd36",
   "metadata": {},
   "outputs": [
    {
     "name": "stdout",
     "output_type": "stream",
     "text": [
      "El lunes tengo que cursar las materias [6103, 7540]\n",
      "El martes tengo que cursar las materias [6201]\n",
      "El miércoles tengo que cursar las materias [6103, 7540]\n",
      "El jueves tengo que cursar las materias []\n",
      "El viernes tengo que cursar las materias [6201]\n"
     ]
    }
   ],
   "source": [
    "for dia in materias.keys():\n",
    "    print(f\"El {dia} tengo que cursar las materias {materias[dia]}\")"
   ]
  },
  {
   "cell_type": "markdown",
   "id": "32d259bb",
   "metadata": {},
   "source": [
    "#### Por Valores\n",
    "Para iterar sobre los valores de un diccionario, podemos usar el método `values()`:\n"
   ]
  },
  {
   "cell_type": "code",
   "execution_count": 66,
   "id": "17529d06",
   "metadata": {},
   "outputs": [
    {
     "name": "stdout",
     "output_type": "stream",
     "text": [
      "[6103, 7540]\n",
      "[6201]\n",
      "[6103, 7540]\n",
      "[]\n",
      "[6201]\n"
     ]
    }
   ],
   "source": [
    "for codigos in materias.values():\n",
    "    print(codigos)"
   ]
  },
  {
   "cell_type": "markdown",
   "id": "b3709b85",
   "metadata": {},
   "source": [
    "Nótese que en este último ejemplo, no podemos obtener la clave a partir de los valores. Por eso no imprimimos los `días`.\n",
    "\n",
    "#### Por Clave-Valor\n",
    "Para iterar sobre los pares clave-valor de un diccionario, podemos usar el método `items()`, que nos devuelve un conjunto de tuplas donde el primer elemento de cada una es una clave y el segundo, su valor asociado `(clave,valor)`:\n"
   ]
  },
  {
   "cell_type": "code",
   "execution_count": 67,
   "id": "e1273c51",
   "metadata": {},
   "outputs": [
    {
     "name": "stdout",
     "output_type": "stream",
     "text": [
      "El lunes tengo que cursar las materias [6103, 7540]\n",
      "El martes tengo que cursar las materias [6201]\n",
      "El miércoles tengo que cursar las materias [6103, 7540]\n",
      "El jueves tengo que cursar las materias []\n",
      "El viernes tengo que cursar las materias [6201]\n"
     ]
    }
   ],
   "source": [
    "for tupla in materias.items():\n",
    "  dia = tupla[0]\n",
    "  codigos = tupla[1]\n",
    "  print(f\"El {dia} tengo que cursar las materias {codigos}\")"
   ]
  },
  {
   "cell_type": "markdown",
   "id": "7c63962b",
   "metadata": {},
   "source": [
    "También podemos desempaquetar las tuplas como vimos previamente:\n"
   ]
  },
  {
   "cell_type": "code",
   "execution_count": 68,
   "id": "97fce0d0",
   "metadata": {},
   "outputs": [
    {
     "name": "stdout",
     "output_type": "stream",
     "text": [
      "El lunes tengo que cursar las materias [6103, 7540]\n",
      "El martes tengo que cursar las materias [6201]\n",
      "El miércoles tengo que cursar las materias [6103, 7540]\n",
      "El jueves tengo que cursar las materias []\n",
      "El viernes tengo que cursar las materias [6201]\n"
     ]
    }
   ],
   "source": [
    "for dia, codigos in materias.items():\n",
    "  print(f\"El {dia} tengo que cursar las materias {codigos}\")"
   ]
  },
  {
   "cell_type": "markdown",
   "id": "641526f6",
   "metadata": {},
   "source": [
    ":::{.callout-note}\n",
    "Como los diccionarios no son secuencias, no tienen orden interno específico, por lo que no podemos obtener porciones de un diccionario usando *slices* o `[:]` como hacíamos con otras estructuras de datos.\n",
    ":::\n",
    "\n",
    ":::{.callout-tip}\n",
    "### Acerca de la Iteración de un Diccionario\n",
    "El mayor beneficio de los diccionarios es que podemos acceder a sus valores de forma eficiente, a través de sus claves.\\\n",
    "Si la única funcionalidad que necesitamos de un diccionario es iterarlo, entonces no estamos aprovechando su potencial. En ese caso, es preferible usar una o más listas o tuplas, que es más simple y más eficiente.\\\n",
    "Iterar un diccionario es una funcionalidad adicional que nos brinda Python, pero no es su principal uso.\n",
    ":::\n",
    "\n",
    "### Usos de un Diccionario\n",
    "Los diccionarios son muy versátiles. Se puede utilizar un diccionario para, por ejemplo, contar cuántas apariciones de cada palabra hay en un texto, o cuántas apariciones por cada letra.\n",
    "\n",
    "También se puede usar un diccionario para tener una agenda de contactos, donde la clave es el nombre de la persona y el valor el número de teléfono.\n",
    "\n",
    ":::{.callout-note collapse=\"true\"}\n",
    "### Hashmaps: Dato interesante\n",
    "Los diccionarios de Python son implementados usando una estructura de datos llamada *hashmap*.\\\n",
    "Para cada clave, se le calcula un valor numérico llamado *hash*, que es el que se usa para acceder al valor asociado a esa clave.\\\n",
    "Cuando se recibe una clave, se le calcula su *hash* y se busca en el diccionario el valor asociado a ese *hash*.\\\n",
    ":::\n",
    "\n",
    "### Operaciones de los Diccionarios\n",
    "| Operación | Descripción |\n",
    "|---|---|\n",
    "| `d[k]` | Devuelve el valor asociado a la clave `k` |\n",
    "| `d[k] = v` | Asigna el valor `v` a la clave `k`. Si la clave no existe, la agrega al diccionario. Si ya existe, le actualiza el valor asociado. |\n",
    "| `del d[k]` | Elimina la clave `k` y su valor asociado del diccionario `d` |\n",
    "| `k in d` | Devuelve `True` si la clave `k` se encuentra en el diccionario `d`, `False` en caso contrario |\n",
    "| `len(d)` | Devuelve la cantidad de pares clave-valor del diccionario `d` |\n",
    "| `d.keys()` | Devuelve una lista con las claves del diccionario `d` |\n",
    "| `d.values()` | Devuelve una lista con los valores del diccionario `d` |\n",
    "| `d.items()` | Devuelve una lista de tuplas con los pares clave-valor del diccionario `d` |\n",
    "| `d.copy()` | Devuelve una copia del diccionario `d` |\n",
    "| `d.pop(k)` | Elimina la clave `k` y su valor asociado del diccionario `d`, y devuelve el valor asociado |\n",
    "| `d.get(k, v)` | Devuelve el valor asociado a la clave `k` si la clave existe, o el valor `v` en caso contrario |\n",
    "\n",
    ":::{.callout-note}\n",
    "Existen más métodos de diccionarios, pero estos son los más utilizados y los que vamos a ver en la materia. Recomendamos que pruebes cada uno de ellos con los diccionarios que vimos en este capítulo.\n",
    ":::\n",
    "\n",
    "### Diccionarios y Funciones\n",
    "Los diccionarios son mutables, por lo que podemos pasarlos como parámetros a funciones y modificarlos dentro de la función.\n"
   ]
  },
  {
   "cell_type": "code",
   "execution_count": 69,
   "id": "26e3375b",
   "metadata": {},
   "outputs": [
    {
     "name": "stdout",
     "output_type": "stream",
     "text": [
      "{'Juan': 1234, 'María': 5678}\n"
     ]
    }
   ],
   "source": [
    "def agregar_alumno(alumnos, nombre, legajo):\n",
    "  alumnos[nombre] = legajo\n",
    "\n",
    "alumnos = {}\n",
    "agregar_alumno(alumnos, \"Juan\", 1234)\n",
    "agregar_alumno(alumnos, \"María\", 5678)\n",
    "print(alumnos)"
   ]
  },
  {
   "cell_type": "markdown",
   "id": "b5c5c80f",
   "metadata": {},
   "source": [
    "### Ordenamiento de Diccionarios\n",
    "Tenemos algunas operaciones que nos permiten ordenar un diccionario:\n",
    "\n",
    "| Operación | Descripción |\n",
    "|---|---|\n",
    "| `dict()` | Crea un diccionario vacío |\n",
    "| `sorted(d)` | Devuelve una lista ordenada con las claves del diccionario `d` |\n",
    "| `dict(sorted(d.items()))` | Devuelve un diccionario ordenado con las claves del diccionario `d` |\n",
    "\n",
    "Si lo que necesitamos es ordenar diccionarios entre sí (por ejemplo, teniendo una lista de diccionarios), vamos a usar el parámetro `key` de la función `sorted`:\n"
   ]
  },
  {
   "cell_type": "code",
   "execution_count": 70,
   "id": "8e86a353",
   "metadata": {},
   "outputs": [
    {
     "name": "stdout",
     "output_type": "stream",
     "text": [
      "[{'nombre': 'Agostina', 'legajo': 9012}, {'nombre': 'Iara', 'legajo': 5678}, {'nombre': 'Priscila', 'legajo': 1234}]\n"
     ]
    }
   ],
   "source": [
    "def obtener_nombre(alumno):\n",
    "  return alumno[\"nombre\"]\n",
    "\n",
    "alumnos = [\n",
    "  {\"nombre\": \"Priscila\", \"legajo\": 1234},\n",
    "  {\"nombre\": \"Iara\", \"legajo\": 5678},\n",
    "  {\"nombre\": \"Agostina\", \"legajo\": 9012}\n",
    "]\n",
    "alumnos_ordenados = sorted(alumnos, key=obtener_nombre)\n",
    "print(alumnos_ordenados)"
   ]
  },
  {
   "cell_type": "markdown",
   "id": "63b5c785",
   "metadata": {},
   "source": [
    ":::{.callout-note}\n",
    "En el ejemplo de arriba, estamos ordenando una lista de diccionarios por el valor de la clave `\"nombre\"`.\\\n",
    "El parámetro `key` recibe una función que se va a aplicar a cada elemento de la lista antes de ordenar. En este caso, la función `obtener_nombre` devuelve el valor de la clave `\"nombre\"` de cada diccionario, y es lo que se usa para ordenar.\n",
    ":::\n",
    "\n",
    ":::{.callout-important}\n",
    "### Ejercicio Desafío\n",
    "Escribir una función que reciba una lista de diccionarios y una clave, y devuelva una lista con los diccionarios ordenados según la clave.\\\n",
    "\n",
    "Ejemplo:\\\n",
    "Si se tiene `[{\"nombre\": \"Priscila\", \"legajo\": 1234}, {\"nombre\": \"Iara\", \"legajo\": 5678}, {\"nombre\": \"Agostina\", \"legajo\": 9012}]` y se recibe la clave `nombre`\\\n",
    "una vez ejecutada, la función debe devolver:\\\n",
    "`[{\"nombre\": \"Agostina\", \"legajo\": 9012}, {\"nombre\": \"Iara\", \"legajo\": 5678}, {\"nombre\": \"Priscila\", \"legajo\": 1234}]`\\\n",
    ":::"
   ]
  }
 ],
 "metadata": {
  "kernelspec": {
   "display_name": "Python 3 (ipykernel)",
   "language": "python",
   "name": "python3",
   "path": "C:\\Users\\aldan\\AppData\\Local\\Programs\\Python\\Python312\\share\\jupyter\\kernels\\python3"
  },
  "language_info": {
   "codemirror_mode": {
    "name": "ipython",
    "version": 3
   },
   "file_extension": ".py",
   "mimetype": "text/x-python",
   "name": "python",
   "nbconvert_exporter": "python",
   "pygments_lexer": "ipython3",
   "version": "3.12.1"
  }
 },
 "nbformat": 4,
 "nbformat_minor": 5
}
